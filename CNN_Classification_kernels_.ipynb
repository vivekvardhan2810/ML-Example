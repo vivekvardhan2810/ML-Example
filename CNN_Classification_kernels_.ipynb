{
  "cells": [
    {
      "cell_type": "code",
      "source": [
        "import numpy as np\n",
        "\n",
        "# Define the input feature map\n",
        "input_feature_map = np.array([\n",
        "    [3, 5, 2, 8, 1],\n",
        "    [9, 7, 5, 4, 3],\n",
        "    [2, 0, 6, 1, 6],\n",
        "    [6, 3, 7, 9, 2],\n",
        "    [1, 4, 9, 5, 1]\n",
        "])\n",
        "\n",
        "# Define the filter\n",
        "filter_matrix = np.array([\n",
        "    [1, 0, 0],\n",
        "    [1, 1, 0],\n",
        "    [0, 0, 1]\n",
        "])\n",
        "\n",
        "# Define the size of the filter and input feature map\n",
        "filter_size = filter_matrix.shape[0]\n",
        "input_size = input_feature_map.shape[0]\n",
        "\n",
        "# Define the size of the output feature map\n",
        "output_size = input_size - filter_size + 1\n",
        "\n",
        "# Initialize the output feature map\n",
        "output_feature_map = np.zeros((output_size, output_size))\n",
        "\n",
        "# Perform the convolution operation\n",
        "for i in range(output_size):\n",
        "    for j in range(output_size):\n",
        "        output_feature_map[i, j] = np.sum(input_feature_map[i:i+filter_size, j:j+filter_size] * filter_matrix)\n",
        "\n",
        "# Print the output feature map\n",
        "print(\"Output Feature Map:\")\n",
        "print(output_feature_map)"
      ],
      "metadata": {
        "id": "taeEikBJCkTS",
        "outputId": "df9e5ed7-bcee-43c3-f109-adb005480ad9",
        "colab": {
          "base_uri": "https://localhost:8080/"
        }
      },
      "execution_count": 1,
      "outputs": [
        {
          "output_type": "stream",
          "name": "stdout",
          "text": [
            "Output Feature Map:\n",
            "[[25. 18. 17.]\n",
            " [18. 22. 14.]\n",
            " [20. 15. 23.]]\n"
          ]
        }
      ]
    }
  ],
  "metadata": {
    "colab": {
      "provenance": []
    },
    "kernelspec": {
      "display_name": "Python 3",
      "name": "python3"
    },
    "language_info": {
      "name": "python"
    }
  },
  "nbformat": 4,
  "nbformat_minor": 0
}