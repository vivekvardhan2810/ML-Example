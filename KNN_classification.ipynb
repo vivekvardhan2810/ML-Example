{
  "cells": [
    {
      "cell_type": "code",
      "source": [
        "pip install scikit-learn"
      ],
      "metadata": {
        "colab": {
          "base_uri": "https://localhost:8080/"
        },
        "id": "tDGY1c5jy4Ie",
        "outputId": "b2b1455d-158d-4011-e6bb-81112616700a"
      },
      "execution_count": 10,
      "outputs": [
        {
          "output_type": "stream",
          "name": "stdout",
          "text": [
            "Requirement already satisfied: scikit-learn in /usr/local/lib/python3.10/dist-packages (1.2.2)\n",
            "Requirement already satisfied: numpy>=1.17.3 in /usr/local/lib/python3.10/dist-packages (from scikit-learn) (1.23.5)\n",
            "Requirement already satisfied: scipy>=1.3.2 in /usr/local/lib/python3.10/dist-packages (from scikit-learn) (1.11.4)\n",
            "Requirement already satisfied: joblib>=1.1.1 in /usr/local/lib/python3.10/dist-packages (from scikit-learn) (1.3.2)\n",
            "Requirement already satisfied: threadpoolctl>=2.0.0 in /usr/local/lib/python3.10/dist-packages (from scikit-learn) (3.2.0)\n"
          ]
        }
      ]
    },
    {
      "cell_type": "code",
      "source": [
        "from sklearn.neighbors import KNeighborsClassifier\n",
        "\n",
        "# Given dataset\n",
        "data = [\n",
        "    (2, 10, 'C2'),\n",
        "    (2, 6, 'C1'),\n",
        "    (11, 11, 'C3'),\n",
        "    (6, 9, 'C2'),\n",
        "    (6, 5, 'C1'),\n",
        "    (1, 2, 'C1'),\n",
        "    (5, 10, 'C2'),\n",
        "    (4, 9, 'C2'),\n",
        "    (10, 12, 'C3'),\n",
        "    (7, 5, 'C1'),\n",
        "    (9, 11, 'C3'),\n",
        "    (4, 6, 'C1'),\n",
        "    (3, 10, 'C2'),\n",
        "    (3, 8, 'C2'),\n",
        "    (6, 11, 'C2')\n",
        "]\n",
        "\n",
        "# Separate data into features and labels\n",
        "X = [(x, y) for x, y, _ in data]\n",
        "y = [label for _, _, label in data]\n",
        "\n",
        "# Create a KNN classifier with k=3 (you can adjust this parameter)\n",
        "knn_classifier = KNeighborsClassifier(n_neighbors=3)\n",
        "\n",
        "# Fit the model to the data\n",
        "knn_classifier.fit(X, y)\n",
        "\n",
        "# Point P = (5, 7)\n",
        "point_p = [(5, 7)]\n",
        "\n",
        "# Predict the class label for point P\n",
        "predicted_label = knn_classifier.predict(point_p)\n",
        "\n",
        "print(f\"The predicted class label for point P = (5, 7) is: {predicted_label[0]}\")"
      ],
      "metadata": {
        "colab": {
          "base_uri": "https://localhost:8080/"
        },
        "id": "UfFg26ZtzOaY",
        "outputId": "ac0cf1a0-ee34-4cb1-824c-290b3e7ae296"
      },
      "execution_count": 11,
      "outputs": [
        {
          "output_type": "stream",
          "name": "stdout",
          "text": [
            "The predicted class label for point P = (5, 7) is: C1\n"
          ]
        }
      ]
    }
  ],
  "metadata": {
    "colab": {
      "provenance": []
    },
    "kernelspec": {
      "display_name": "Python 3",
      "name": "python3"
    },
    "language_info": {
      "name": "python"
    }
  },
  "nbformat": 4,
  "nbformat_minor": 0
}