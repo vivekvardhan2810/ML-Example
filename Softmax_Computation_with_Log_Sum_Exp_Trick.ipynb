{
  "cells": [
    {
      "cell_type": "code",
      "source": [
        "import numpy as np\n",
        "\n",
        "def softmax(x):\n",
        "    # Using the log-sum-exp trick\n",
        "    max_x = np.max(x)\n",
        "    exp_x_shifted = np.exp(x - max_x)\n",
        "    softmax_values = exp_x_shifted / np.sum(exp_x_shifted)\n",
        "    return softmax_values\n",
        "\n",
        "# Test the function with large input values\n",
        "input_values = [1000, 2000, 3000]\n",
        "softmax_values = softmax(input_values)\n",
        "print(\"Softmax values with large input:\", softmax_values)\n",
        "\n",
        "# Test the function with small input values\n",
        "input_values_small = [-1000, -2000, -3000]\n",
        "softmax_values_small = softmax(input_values_small)\n",
        "print(\"Softmax values with small input:\", softmax_values_small)"
      ],
      "metadata": {
        "colab": {
          "base_uri": "https://localhost:8080/"
        },
        "id": "NY4TK12M0okt",
        "outputId": "090bc9af-93d9-4229-9562-7e1e28f576df"
      },
      "execution_count": 1,
      "outputs": [
        {
          "output_type": "stream",
          "name": "stdout",
          "text": [
            "Softmax values with large input: [0. 0. 1.]\n",
            "Softmax values with small input: [1. 0. 0.]\n"
          ]
        }
      ]
    }
  ],
  "metadata": {
    "colab": {
      "provenance": []
    },
    "kernelspec": {
      "display_name": "Python 3",
      "name": "python3"
    },
    "language_info": {
      "name": "python"
    }
  },
  "nbformat": 4,
  "nbformat_minor": 0
}